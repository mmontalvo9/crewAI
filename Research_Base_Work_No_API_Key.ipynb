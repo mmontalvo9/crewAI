{
 "cells": [
  {
   "cell_type": "code",
   "execution_count": null,
   "id": "747aaf1d-9fc4-4da9-a2e9-6ed21d23f70b",
   "metadata": {},
   "outputs": [],
   "source": [
    "pip install --upgrade wheel setuptools"
   ]
  },
  {
   "cell_type": "code",
   "execution_count": null,
   "id": "d82b5d11-e0d2-4a87-ad67-4c6ade18a43d",
   "metadata": {},
   "outputs": [],
   "source": [
    "pip install chroma-hnswlib"
   ]
  },
  {
   "cell_type": "code",
   "execution_count": null,
   "id": "cc76238f-9a4c-435a-aee6-825aa9171e6b",
   "metadata": {},
   "outputs": [],
   "source": [
    "pip install cryptography==43.0.3"
   ]
  },
  {
   "cell_type": "code",
   "execution_count": null,
   "id": "37564804-4e70-4ff9-8f41-13da6b7aa45f",
   "metadata": {},
   "outputs": [],
   "source": [
    "pip install pyopenssl --upgrade"
   ]
  },
  {
   "cell_type": "code",
   "execution_count": null,
   "id": "d84a4342-4834-45b7-8b73-0be3296a5db8",
   "metadata": {},
   "outputs": [],
   "source": [
    "pip install auth0-python --upgrade"
   ]
  },
  {
   "cell_type": "code",
   "execution_count": null,
   "id": "30507b5a-a86e-48c8-af4f-80d69d1e37be",
   "metadata": {},
   "outputs": [],
   "source": []
  },
  {
   "cell_type": "code",
   "execution_count": null,
   "id": "eacf3760-1e6a-496c-a06d-ee0ec8c7df95",
   "metadata": {},
   "outputs": [],
   "source": [
    "# STEP 1: Upgrade pip safely\n",
    "import sys\n",
    "!{sys.executable} -m pip install --upgrade pip setuptools wheel\n",
    "\n",
    "# STEP 2: Install core CrewAI packages\n",
    "!pip install crewai langchain openai\n",
    "\n",
    "# STEP 3: Optional financial analysis tools\n",
    "!pip install yfinance pandas matplotlib\n",
    "\n",
    "# STEP 4: Required version for CrewAI\n",
    "!pip install tenacity==9.1.2\n",
    "\n",
    "# STEP 5: Optional CrewAI tools (search, file readers, etc.)\n",
    "!pip install crewai-tools\n",
    "\n"
   ]
  },
  {
   "cell_type": "code",
   "execution_count": null,
   "id": "36ae815e-9499-4c8a-9c7b-fa70af6da4d9",
   "metadata": {},
   "outputs": [],
   "source": [
    "pip install crewai langchain"
   ]
  },
  {
   "cell_type": "code",
   "execution_count": null,
   "id": "f3130abb-4863-476a-a862-51b6f4214f2f",
   "metadata": {},
   "outputs": [],
   "source": [
    "import crewai\n",
    "print(\"CrewAI is successfully installed!\")"
   ]
  },
  {
   "cell_type": "code",
   "execution_count": null,
   "id": "206f3d00-85ae-4032-85e8-0691137efbfd",
   "metadata": {},
   "outputs": [],
   "source": [
    "!pip install langchain langchain-community crewai"
   ]
  },
  {
   "cell_type": "code",
   "execution_count": null,
   "id": "c4cd14ad-eef2-49b0-b6e0-ea7eb5037a24",
   "metadata": {},
   "outputs": [],
   "source": [
    "!pip install crewai litellm\n"
   ]
  },
  {
   "cell_type": "code",
   "execution_count": null,
   "id": "128c9579-43ef-4329-badf-2fa1069ff935",
   "metadata": {},
   "outputs": [],
   "source": [
    "import os"
   ]
  },
  {
   "cell_type": "code",
   "execution_count": null,
   "id": "e7f70e81-7f8f-4322-9d18-8e33871b91ca",
   "metadata": {},
   "outputs": [],
   "source": [
    "!pip install --upgrade crewai litellm langchain langchain-community"
   ]
  },
  {
   "cell_type": "code",
   "execution_count": null,
   "id": "2a78a852-e9e9-4053-b036-55859803ebda",
   "metadata": {},
   "outputs": [],
   "source": [
    "!pip install --upgrade \"litellm>=1.35.3\""
   ]
  },
  {
   "cell_type": "code",
   "execution_count": null,
   "id": "e58ffd7b-75c8-4c55-9f01-018265fb8f10",
   "metadata": {},
   "outputs": [],
   "source": [
    "!pip install langchain-community"
   ]
  },
  {
   "cell_type": "code",
   "execution_count": null,
   "id": "8adeece3-a6e0-4e03-a301-f4e439633607",
   "metadata": {},
   "outputs": [],
   "source": [
    "!pip install --upgrade crewai langchain langchain_community"
   ]
  },
  {
   "cell_type": "code",
   "execution_count": null,
   "id": "e1d76464-2436-4c4b-86ff-364e05d2c14d",
   "metadata": {},
   "outputs": [],
   "source": [
    "!pip install --upgrade crewai litellm"
   ]
  },
  {
   "cell_type": "code",
   "execution_count": null,
   "id": "f2cdeeaa-5f83-4239-bd4c-4517259571d5",
   "metadata": {},
   "outputs": [],
   "source": [
    "import os\n",
    "\n",
    "# Set BOTH variables\n",
    "os.environ[\"OPENAI_API_KEY\"] = #your API Key\n",
    "os.environ[\"LITELLM_API_KEY\"] = os.environ[\"OPENAI_API_KEY\"]  # important!\n",
    "\n",
    "# Optionally tell LiteLLM you're using OpenAI\n",
    "os.environ[\"LITELLM_MODEL\"] = \"gpt-3.5-turbo\"\n"
   ]
  },
  {
   "cell_type": "code",
   "execution_count": null,
   "id": "1aac6fb5-287f-4269-8e9b-b6069a96fa14",
   "metadata": {},
   "outputs": [],
   "source": [
    "os.environ[\"LITELLM_MODEL\"] = \"gpt-3.5-turbo\"  # or gpt-4 if you have access"
   ]
  },
  {
   "cell_type": "code",
   "execution_count": null,
   "id": "b097366d-71ec-4336-a1de-c7c20c62c176",
   "metadata": {},
   "outputs": [],
   "source": [
    "import os\n",
    "from crewai import Agent, Task, Crew, Process\n",
    "\n",
    "# ✅ Set environment vars\n",
    "os.environ[\"OPENAI_API_KEY\"] = #Your API Key\n",
    "os.environ[\"LITELLM_API_KEY\"] = os.environ[\"OPENAI_API_KEY\"]\n",
    "os.environ[\"LITELLM_MODEL\"] = \"gpt-3.5-turbo\"\n",
    "\n",
    "# ✅ Define the Sentiment Analyst agent\n",
    "sentiment_analyst = Agent(\n",
    "    role='Sentiment Analyst',\n",
    "    goal='Analyze current public sentiment about financial markets',\n",
    "    backstory=(\n",
    "        \"You specialize in detecting sentiment trends by analyzing financial news, social media, \"\n",
    "        \"and online forums. Your insights guide investment strategy by understanding the market mood.\"\n",
    "    ),\n",
    "    verbose=True\n",
    ")\n",
    "\n",
    "# ✅ Define the Market Trend Analyst agent\n",
    "market_analyst = Agent(\n",
    "    role='Market Trend Analyst',\n",
    "    goal='Identify and justify promising investment opportunities',\n",
    "    backstory='You are a seasoned market analyst with years of experience.',\n",
    "    verbose=True\n",
    ")\n",
    "\n",
    "# ✅ Define the sentiment analysis task\n",
    "sentiment_task = Task(\n",
    "    description=(\n",
    "        \"Analyze current public sentiment about the financial markets. \"\n",
    "        \"Look at overall market tone from news, social media, and any trends in optimism or fear. \"\n",
    "        \"Summarize if the mood is bullish, bearish, or mixed, and explain why.\"\n",
    "    ),\n",
    "    expected_output=\"A paragraph summarizing public sentiment and the reasoning behind it.\",\n",
    "    agent=sentiment_analyst\n",
    ")\n",
    "\n",
    "# ✅ Define the investment suggestion task\n",
    "investment_task = Task(\n",
    "    description=(\n",
    "        \"Based on current market sentiment and indicators, suggest 3 investment opportunities \"\n",
    "        \"and explain why these are promising.\"\n",
    "    ),\n",
    "    expected_output=\"A short report with 3 specific investment ideas and justifications.\",\n",
    "    agent=market_analyst\n",
    ")\n",
    "\n",
    "# ✅ Assemble the crew\n",
    "crew = Crew(\n",
    "    agents=[sentiment_analyst, market_analyst],\n",
    "    tasks=[sentiment_task, investment_task],\n",
    "    process=Process.sequential  # Ensures sentiment is analyzed first\n",
    ")\n",
    "\n",
    "# ✅ Run\n",
    "result = crew.kickoff()\n",
    "print(result)\n"
   ]
  },
  {
   "cell_type": "code",
   "execution_count": null,
   "id": "2277ef2f-69aa-4549-842b-40c5e57e8e71",
   "metadata": {},
   "outputs": [],
   "source": []
  }
 ],
 "metadata": {
  "kernelspec": {
   "display_name": "Python [conda env:anaconda3_2]",
   "language": "python",
   "name": "conda-env-anaconda3_2-py"
  },
  "language_info": {
   "codemirror_mode": {
    "name": "ipython",
    "version": 3
   },
   "file_extension": ".py",
   "mimetype": "text/x-python",
   "name": "python",
   "nbconvert_exporter": "python",
   "pygments_lexer": "ipython3",
   "version": "3.12.7"
  }
 },
 "nbformat": 4,
 "nbformat_minor": 5
}
